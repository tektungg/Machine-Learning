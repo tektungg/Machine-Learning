{
 "cells": [
  {
   "cell_type": "markdown",
   "metadata": {},
   "source": [
    "# Tugas Praktikum"
   ]
  },
  {
   "cell_type": "markdown",
   "metadata": {},
   "source": [
    "## Tugas\n",
    "Buatlah sebuah model K-Means dengan ketentuan\n",
    "1. Gunakan data 'Mall_Customers.csv'\n",
    "2. Tentukan fitur apa yang tepat untuk melakukan clustering (minimal 2)\n",
    "3. Buatlah model K-Means dengan mempertimbangkan jumlah k yang terbaik.\n",
    "4. Buatlah  implementasi model SOM untuk segmentasi citra lain"
   ]
  }
 ],
 "metadata": {
  "language_info": {
   "name": "python"
  }
 },
 "nbformat": 4,
 "nbformat_minor": 2
}

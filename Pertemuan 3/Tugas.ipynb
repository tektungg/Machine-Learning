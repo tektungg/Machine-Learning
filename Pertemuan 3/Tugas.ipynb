{
 "cells": [
  {
   "cell_type": "markdown",
   "metadata": {},
   "source": [
    "### Tugas 1: Multiple Linear Regression\n"
   ]
  },
  {
   "cell_type": "markdown",
   "metadata": {},
   "source": [
    "Identifikasi Variabel:\n",
    "\n",
    "Variabel Bebas:\n",
    "* Age: Umur pasien\n",
    "* Sex: Jenis kelamin pasien (female/male)\n",
    "* BMI: Indeks Massa Tubuh pasien\n",
    "* Children: Jumlah anak pasien\n",
    "* Smoker: Apakah pasien perokok (yes/no)\n",
    "* Region: Wilayah geografis tempat tinggal pasien (southwest, southeast, northwest, northeast)\n",
    "\n",
    "Variabel Target:\n",
    "* Charges: Biaya medis personal"
   ]
  },
  {
   "cell_type": "code",
   "execution_count": 5,
   "metadata": {},
   "outputs": [
    {
     "name": "stdout",
     "output_type": "stream",
     "text": [
      "MAE: 4186.508898366439\n",
      "MSE: 33635210.43117845\n",
      "RMSE: 5799.5870914383595\n",
      "R-squared: 0.7833463107364536\n"
     ]
    }
   ],
   "source": [
    "import pandas as pd\n",
    "import numpy as np\n",
    "from sklearn.calibration import LabelEncoder\n",
    "from sklearn.model_selection import train_test_split\n",
    "from sklearn.preprocessing import StandardScaler\n",
    "from sklearn.linear_model import LinearRegression\n",
    "from sklearn.metrics import r2_score, mean_squared_error, mean_absolute_error\n",
    "\n",
    "# Baca dataset\n",
    "data = pd.read_csv('assets/docs/insurance.csv')\n",
    "\n",
    "# Buat label encoder untuk variabel non-numerik\n",
    "le_sex = LabelEncoder()\n",
    "le_smoker = LabelEncoder()\n",
    "le_region = LabelEncoder()\n",
    "\n",
    "# Encode variabel non-numerik\n",
    "data['sex'] = le_sex.fit_transform(data['sex'])\n",
    "data['smoker'] = le_smoker.fit_transform(data['smoker'])\n",
    "data['region'] = le_region.fit_transform(data['region'])\n",
    "\n",
    "# Identifikasi variabel bebas dan target\n",
    "X = data[['age', 'sex', 'bmi', 'children', 'smoker', 'region']]\n",
    "y = data['charges']\n",
    "\n",
    "# Lakukan feature scaling jika diperlukan\n",
    "scaler = StandardScaler()\n",
    "X_scaled = scaler.fit_transform(X)\n",
    "\n",
    "# Bagi data menjadi data latih dan data uji\n",
    "X_train, X_test, y_train, y_test = train_test_split(X_scaled, y, test_size=0.2, random_state=42)\n",
    "\n",
    "# Buat model multiple linear regression\n",
    "model = LinearRegression()\n",
    "\n",
    "# Latih model pada data latih\n",
    "model.fit(X_train, y_train)\n",
    "\n",
    "# Lakukan prediksi pada data uji\n",
    "y_pred = model.predict(X_test)\n",
    "\n",
    "# Menghitung MAE\n",
    "mae = mean_absolute_error(y_test, y_pred)\n",
    "\n",
    "# Menghitung MSE\n",
    "mse = mean_squared_error(y_test, y_pred)\n",
    "\n",
    "# Menghitung RMSE\n",
    "rmse = np.sqrt(mse)\n",
    "\n",
    "# Menghitung R-squared\n",
    "r2 = r2_score(y_test, y_pred)\n",
    "\n",
    "print(\"MAE:\", mae)\n",
    "print(\"MSE:\", mse)\n",
    "print(\"RMSE:\", rmse)\n",
    "print(\"R-squared:\", r2)"
   ]
  }
 ],
 "metadata": {
  "kernelspec": {
   "display_name": "base",
   "language": "python",
   "name": "python3"
  },
  "language_info": {
   "codemirror_mode": {
    "name": "ipython",
    "version": 3
   },
   "file_extension": ".py",
   "mimetype": "text/x-python",
   "name": "python",
   "nbconvert_exporter": "python",
   "pygments_lexer": "ipython3",
   "version": "3.12.4"
  }
 },
 "nbformat": 4,
 "nbformat_minor": 2
}
